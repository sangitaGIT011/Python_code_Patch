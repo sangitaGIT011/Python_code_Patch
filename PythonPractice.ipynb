{
  "nbformat": 4,
  "nbformat_minor": 0,
  "metadata": {
    "colab": {
      "provenance": [],
      "authorship_tag": "ABX9TyOhhfL0BEdj/WItbjEKV12n",
      "include_colab_link": true
    },
    "kernelspec": {
      "name": "python3",
      "display_name": "Python 3"
    },
    "language_info": {
      "name": "python"
    }
  },
  "cells": [
    {
      "cell_type": "markdown",
      "metadata": {
        "id": "view-in-github",
        "colab_type": "text"
      },
      "source": [
        "<a href=\"https://colab.research.google.com/github/sangitaGIT011/Python_code_Patch/blob/main/PythonPractice.ipynb\" target=\"_parent\"><img src=\"https://colab.research.google.com/assets/colab-badge.svg\" alt=\"Open In Colab\"/></a>"
      ]
    },
    {
      "cell_type": "markdown",
      "source": [
        "Python for print hello world"
      ],
      "metadata": {
        "id": "kKbByeNFNKnX"
      }
    },
    {
      "cell_type": "code",
      "source": [
        "# Sum of natural numbers up to num\n",
        "\n",
        "num = 16\n",
        "\n",
        "if num < 0:\n",
        "   print(\"Enter a positive number\")\n",
        "else:\n",
        "   sum = 0\n",
        "   # use while loop to iterate until zero\n",
        "   while(num > 0):\n",
        "       sum += num\n",
        "       num -= 1\n",
        "   print(\"The sum is\", sum)\n"
      ],
      "metadata": {
        "colab": {
          "base_uri": "https://localhost:8080/"
        },
        "id": "cazuNd49dERv",
        "outputId": "99cdfc99-9d2b-4f51-ced9-38f2c1802481"
      },
      "execution_count": 1,
      "outputs": [
        {
          "output_type": "stream",
          "name": "stdout",
          "text": [
            "The sum is 136\n"
          ]
        }
      ]
    },
    {
      "cell_type": "code",
      "source": [
        "# Program to find the ASCII value of the given character\n",
        "\n",
        "c = 'p'\n",
        "print(\"The ASCII value of '\" + c + \"' is\", ord(c))\n"
      ],
      "metadata": {
        "id": "mZ8sL1GpeN3G",
        "outputId": "eeb3512b-3ba0-4140-987e-afab3d5c2ca6",
        "colab": {
          "base_uri": "https://localhost:8080/"
        }
      },
      "execution_count": 2,
      "outputs": [
        {
          "output_type": "stream",
          "name": "stdout",
          "text": [
            "The ASCII value of 'p' is 112\n"
          ]
        }
      ]
    },
    {
      "cell_type": "code",
      "source": [
        "print(\"Hello World\" )"
      ],
      "metadata": {
        "colab": {
          "base_uri": "https://localhost:8080/"
        },
        "id": "lZPXgN3dNOb_",
        "outputId": "f09ae65a-9dad-4f29-cc78-51d455b99b2d"
      },
      "execution_count": null,
      "outputs": [
        {
          "output_type": "stream",
          "name": "stdout",
          "text": [
            "Hello World\n"
          ]
        }
      ]
    },
    {
      "cell_type": "code",
      "source": [
        "# Python Program to find the area of triangle\n",
        "\n",
        "a = 5\n",
        "b = 6\n",
        "c = 7\n",
        "\n",
        "# Uncomment below to take inputs from the user\n",
        "# a = float(input('Enter first side: '))\n",
        "# b = float(input('Enter second side: '))\n",
        "# c = float(input('Enter third side: '))\n",
        "\n",
        "# calculate the semi-perimeter\n",
        "s = (a + b + c) / 2\n",
        "\n",
        "# calculate the area\n",
        "area = (s*(s-a)*(s-b)*(s-c)) ** 0.5\n",
        "print('The area of the triangle is %0.2f' %area)"
      ],
      "metadata": {
        "colab": {
          "base_uri": "https://localhost:8080/"
        },
        "id": "SLbq91pxSRf5",
        "outputId": "6750c9d9-f66b-4c88-9572-293e1fcb3e37"
      },
      "execution_count": null,
      "outputs": [
        {
          "output_type": "stream",
          "name": "stdout",
          "text": [
            "The area of the triangle is 14.70\n"
          ]
        }
      ]
    },
    {
      "cell_type": "code",
      "source": [
        "# Solve the quadratic equation ax**2 + bx + c = 0\n",
        "\n",
        "# import complex math module\n",
        "import cmath\n",
        "\n",
        "a = 2\n",
        "b = 2\n",
        "c = 9\n",
        "\n",
        "# calculate the discriminant\n",
        "d = (b**2) - (4*a*c)\n",
        "\n",
        "# find two solutions\n",
        "sol1 = (-b-cmath.sqrt(d))/(2*a)\n",
        "sol2 = (-b+cmath.sqrt(d))/(2*a)\n",
        "\n",
        "print('The solution are {0} and {1}'.format(sol1,sol2))\n"
      ],
      "metadata": {
        "colab": {
          "base_uri": "https://localhost:8080/"
        },
        "id": "KWDqTcIVVFDq",
        "outputId": "4690153a-23e1-4f07-e835-e602dc1156bb"
      },
      "execution_count": null,
      "outputs": [
        {
          "output_type": "stream",
          "name": "stdout",
          "text": [
            "The solution are (-0.5-2.0615528128088303j) and (-0.5+2.0615528128088303j)\n"
          ]
        }
      ]
    },
    {
      "cell_type": "code",
      "source": [
        "# Taking kilometers input from the user\n",
        "kilometers = float(input(\"Enter value in kilometers: \"))\n",
        "\n",
        "# conversion factor\n",
        "conv_fac = 0.621371\n",
        "\n",
        "# calculate miles\n",
        "miles = kilometers * conv_fac\n",
        "print('%0.2f kilometers is equal to %0.2f miles' %(kilometers,miles))\n"
      ],
      "metadata": {
        "colab": {
          "base_uri": "https://localhost:8080/"
        },
        "id": "_1u11-mXbPPS",
        "outputId": "50e51eb2-d3e9-4c0f-840d-7bc00ef82abb"
      },
      "execution_count": null,
      "outputs": [
        {
          "output_type": "stream",
          "name": "stdout",
          "text": [
            "Enter value in kilometers: 1\n",
            "1.00 kilometers is equal to 0.62 miles\n"
          ]
        }
      ]
    },
    {
      "cell_type": "code",
      "source": [
        "# Python Program to convert temperature in celsius to fahrenheit\n",
        "\n",
        "# change this value for a different result\n",
        "celsius = 33\n",
        "\n",
        "# calculate fahrenheit\n",
        "fahrenheit = (celsius * 1.8) + 32\n",
        "print('%0.1f degree Celsius is equal to %0.1f degree Fahrenheit' %(celsius,fahrenheit))\n",
        "\n",
        "#convert Fahrenheit to Celsius\n",
        "fahrenheit =91.4\n",
        "\n",
        "celsius = (fahrenheit - 32) / 1.8\n",
        "print('%0.1f degree fahrenhei is equal to %0.1f degree Celsius' %(fahrenheit,celsius))\n"
      ],
      "metadata": {
        "colab": {
          "base_uri": "https://localhost:8080/"
        },
        "id": "vr7-3xYndEMi",
        "outputId": "968f2b89-9c55-4a78-e5bf-71bbd14f97d1"
      },
      "execution_count": null,
      "outputs": [
        {
          "output_type": "stream",
          "name": "stdout",
          "text": [
            "33.0 degree Celsius is equal to 91.4 degree Fahrenheit\n",
            "91.4 degree fahrenhei is equal to 33.0 degree Celsius\n"
          ]
        }
      ]
    },
    {
      "cell_type": "code",
      "source": [
        "num =float(input(\"Enter a number: \"))\n",
        "if num > 0:\n",
        "   print(\"Positive number\")\n",
        "elif num == 0:\n",
        "   print(\"Zero\")\n",
        "else:\n",
        "   print(\"Negative number\")\n"
      ],
      "metadata": {
        "colab": {
          "base_uri": "https://localhost:8080/"
        },
        "id": "pYySpTI3eq_S",
        "outputId": "118f8027-652c-4b16-9cd2-00c8776ff6d4"
      },
      "execution_count": null,
      "outputs": [
        {
          "output_type": "stream",
          "name": "stdout",
          "text": [
            "Enter a number: 0\n",
            "Zero\n"
          ]
        }
      ]
    },
    {
      "cell_type": "code",
      "source": [
        "# Python program to swap two variables\n",
        "\n",
        "x = 5\n",
        "y = 10\n",
        "\n",
        "# To take inputs from the user\n",
        "#x = input('Enter value of x: ')\n",
        "#y = input('Enter value of y: ')\n",
        "\n",
        "# create a temporary variable and swap the values\n",
        "temp = x\n",
        "x = y\n",
        "y = temp\n",
        "\n",
        "print('The value of x after swapping: {}'.format(x))\n",
        "print('The value of y after swapping: {}'.format(y))\n",
        "\n",
        "\n",
        "#without Temp Variable\n",
        "\n",
        "x = 5\n",
        "y = 10\n",
        "\n",
        "x, y = y, x\n",
        "print(\"The Value of Swapped x =\", x)\n",
        "print(\"The Value of Swapped y =\", y)\n",
        "\n"
      ],
      "metadata": {
        "colab": {
          "base_uri": "https://localhost:8080/"
        },
        "id": "dH0Tih4nWF1w",
        "outputId": "ecdd0e1e-c5a4-4080-ea99-48a4d102c107"
      },
      "execution_count": null,
      "outputs": [
        {
          "output_type": "stream",
          "name": "stdout",
          "text": [
            "The value of x after swapping: 10\n",
            "The value of y after swapping: 5\n",
            "The Value of Swapped x = 10\n",
            "The Value of Swapped y = 5\n"
          ]
        }
      ]
    },
    {
      "cell_type": "code",
      "source": [
        "# Program to generate a random number between 0 and 9\n",
        "\n",
        "# importing the random module\n",
        "import random\n",
        "\n",
        "print(random.randint(0,8))\n"
      ],
      "metadata": {
        "colab": {
          "base_uri": "https://localhost:8080/"
        },
        "id": "Xyuwns1VXd4J",
        "outputId": "98f93e6b-a8b3-4cd8-e193-8a0f8eff7d72"
      },
      "execution_count": null,
      "outputs": [
        {
          "output_type": "stream",
          "name": "stdout",
          "text": [
            "1\n"
          ]
        }
      ]
    },
    {
      "cell_type": "code",
      "source": [
        "# This program adds two numbers\n",
        "\n",
        "num1 = 1.5\n",
        "num2 = 6.3\n",
        "\n",
        "var1=11\n",
        "var2=21\n",
        "# Add two numbers\n",
        "sum = num1 + num2\n",
        "Total = var1 + var2\n",
        "\n",
        "# Display the sum\n",
        "\n",
        "\n",
        "print('The sum of {0} and {1} is {2}'.format(num1, num2, sum))\n",
        "\n",
        "print('The  Total of  {0} and {1} is {2}'.format(var1,var2,Total))"
      ],
      "metadata": {
        "colab": {
          "base_uri": "https://localhost:8080/"
        },
        "id": "t9BW-51xOG4u",
        "outputId": "aae99145-0aa0-4b96-bb88-93de0331b96a"
      },
      "execution_count": null,
      "outputs": [
        {
          "output_type": "stream",
          "name": "stdout",
          "text": [
            "The sum of 1.5 and 6.3 is 7.8\n",
            "The  Total of  11 and 21 is 32\n"
          ]
        }
      ]
    },
    {
      "cell_type": "code",
      "source": [
        "# Python Program to calculate the square root\n",
        "\n",
        "# Note: change this value for a different result\n",
        "num = 8\n",
        "\n",
        "# To take the input from the user\n",
        "#num = float(input('Enter a number: '))\n",
        "\n",
        "num_sqrt = num ** 0.5\n",
        "print('The square root of %0.3f is %0.3f'%(num ,num_sqrt))\n"
      ],
      "metadata": {
        "colab": {
          "base_uri": "https://localhost:8080/"
        },
        "id": "8ZD6zmf5RRRR",
        "outputId": "c6588654-d6e8-49f7-b4b2-90637db116f7"
      },
      "execution_count": null,
      "outputs": [
        {
          "output_type": "stream",
          "name": "stdout",
          "text": [
            "The square root of 8.000 is 2.828\n"
          ]
        }
      ]
    },
    {
      "cell_type": "code",
      "source": [
        "# Solve the quadratic equation ax**2 + bx + c = 0\n",
        "\n",
        "# import complex math module\n",
        "import cmath\n",
        "\n",
        "a = 1\n",
        "b = 4\n",
        "c = 6\n",
        "\n",
        "#Enter Input manually\n",
        "#a = float(input('Enter value of x: '))\n",
        "#b = float(input('Enter value of y: '))\n",
        "#c = float(input('Enter value of x: '))\n",
        "\n",
        "\n",
        "# calculate the discriminant\n",
        "d = (b**2) - (4*a*c)\n",
        "\n",
        "# find two solutions\n",
        "sol1 = (-b-cmath.sqrt(d))/(2*a)\n",
        "sol2 = (-b+cmath.sqrt(d))/(2*a)\n",
        "\n",
        "print('The solution are {0} and {1}'.format(sol1,sol2))\n"
      ],
      "metadata": {
        "colab": {
          "base_uri": "https://localhost:8080/"
        },
        "id": "x1QRrPc7Zz8w",
        "outputId": "c2854a6b-0509-4b26-adaa-251ce24a494a"
      },
      "execution_count": null,
      "outputs": [
        {
          "output_type": "stream",
          "name": "stdout",
          "text": [
            "The solution are (-2-1.4142135623730951j) and (-2+1.4142135623730951j)\n"
          ]
        }
      ]
    },
    {
      "cell_type": "code",
      "source": [
        "# Python program to check if year is a leap year or not\n",
        "\n",
        "year = 2000\n",
        "\n",
        "# To get year (integer input) from the user\n",
        "# year = int(input(\"Enter a year: \"))\n",
        "\n",
        "# divided by 100 means century year (ending with 00)\n",
        "# century year divided by 400 is leap year\n",
        "if (year % 400 == 0) and (year % 100 == 0):\n",
        "    print(\"{0} is a leap year\".format(year))\n",
        "\n",
        "# not divided by 100 means not a century year\n",
        "# year divided by 4 is a leap year\n",
        "elif (year % 4 ==0) and (year % 100 != 0):\n",
        "    print(\"{0} is a leap year\".format(year))\n",
        "\n",
        "# if not divided by both 400 (century year) and 4 (not century year)\n",
        "# year is not leap year\n",
        "else:\n",
        "    print(\"{0} is not a leap year\".format(year))"
      ],
      "metadata": {
        "colab": {
          "base_uri": "https://localhost:8080/"
        },
        "id": "hvQnh9A6mLha",
        "outputId": "4f29d508-6e01-45eb-c858-983823581c7f"
      },
      "execution_count": null,
      "outputs": [
        {
          "output_type": "stream",
          "name": "stdout",
          "text": [
            "2000 is a leap year\n"
          ]
        }
      ]
    },
    {
      "cell_type": "code",
      "source": [
        "# Python program to check if the input number is odd or even.\n",
        "# A number is even if division by 2 gives a remainder of 0.\n",
        "# If the remainder is 1, it is an odd number.\n",
        "\n",
        "num = int(input(\"Enter a number: \"))\n",
        "if (num % 2) == 0:\n",
        "   print(\"{0} is Even\".format(num))\n",
        "else:\n",
        "   print(\"{0} is Odd\".format(num))"
      ],
      "metadata": {
        "colab": {
          "base_uri": "https://localhost:8080/"
        },
        "id": "Tz-ZyN96o740",
        "outputId": "df4b1256-c2bf-4441-f3d4-ebc7313c5645"
      },
      "execution_count": null,
      "outputs": [
        {
          "output_type": "stream",
          "name": "stdout",
          "text": [
            "Enter a number: 3\n",
            "3 is Odd\n"
          ]
        }
      ]
    },
    {
      "cell_type": "code",
      "source": [
        " #Python Print Statement\n",
        "\n",
        " print('First practice programme')\n",
        " print('Good Morning!')\n",
        "print('It is rainy today')"
      ],
      "metadata": {
        "colab": {
          "base_uri": "https://localhost:8080/"
        },
        "id": "UB0kE4kHpf3s",
        "outputId": "420005ab-1b81-4a7d-8035-c587239aa168"
      },
      "execution_count": null,
      "outputs": [
        {
          "output_type": "stream",
          "name": "stdout",
          "text": [
            "First practice programme\n",
            "Good Morning!\n",
            "It is rainy today\n"
          ]
        }
      ]
    },
    {
      "cell_type": "code",
      "source": [
        "# print with end whitespace\n",
        "print('Good Morning! ',  end='')\n",
        "\n",
        "print('It is rainy today, ' , end='')\n",
        "\n",
        "print('Using end =')"
      ],
      "metadata": {
        "colab": {
          "base_uri": "https://localhost:8080/"
        },
        "id": "OS317XGAqA5k",
        "outputId": "135e51bf-1424-40a5-911b-0203b91ec232"
      },
      "execution_count": null,
      "outputs": [
        {
          "output_type": "stream",
          "name": "stdout",
          "text": [
            "Good Morning! It is rainy today, Using end =\n"
          ]
        }
      ]
    },
    {
      "cell_type": "code",
      "source": [
        "print('New Year', 2023, 'See you soon! ', sep= ': ', end='' )\n",
        "print('Using sep=')"
      ],
      "metadata": {
        "colab": {
          "base_uri": "https://localhost:8080/"
        },
        "id": "MYZEQLxCqsjE",
        "outputId": "37c8b8f5-3b65-4b95-9792-067cba97b618"
      },
      "execution_count": null,
      "outputs": [
        {
          "output_type": "stream",
          "name": "stdout",
          "text": [
            "New Year: 2023: See you soon! Using sep=\n"
          ]
        }
      ]
    },
    {
      "cell_type": "code",
      "source": [
        "# Python program to find the largest number among the three input numbers\n",
        "\n",
        "# change the values of num1, num2 and num3\n",
        "# for a different result\n",
        "num1 = 10\n",
        "num2 = 14\n",
        "num3 = 12\n",
        "\n",
        "# uncomment following lines to take three numbers from user\n",
        "#num1 = float(input(\"Enter first number: \"))\n",
        "#num2 = float(input(\"Enter second number: \"))\n",
        "#num3 = float(input(\"Enter third number: \"))\n",
        "\n",
        "if (num1 >= num2) and (num1 >= num3):\n",
        "   Maximum = num1\n",
        "elif (num2 >= num1) and (num2 >= num3):\n",
        "   Maximum = num2\n",
        "else:\n",
        "   Maximum = num3\n",
        "\n",
        "print(\"The Max number is\", Maximum)\n"
      ],
      "metadata": {
        "colab": {
          "base_uri": "https://localhost:8080/"
        },
        "id": "epERGU7DryyU",
        "outputId": "6c399cba-6b2d-4f43-c45f-70e65742d347"
      },
      "execution_count": null,
      "outputs": [
        {
          "output_type": "stream",
          "name": "stdout",
          "text": [
            "The Max number is 14\n"
          ]
        }
      ]
    },
    {
      "cell_type": "code",
      "source": [
        "# Python program to check if year is a leap year or not\n",
        "\n",
        "year = 2023\n",
        "\n",
        "# To get year (integer input) from the user\n",
        "# year = int(input(\"Enter a year: \"))\n",
        "\n",
        "# divided by 100 means century year (ending with 00)\n",
        "# century year divided by 400 is leap year\n",
        "if (year % 400 == 0) and (year % 100 == 0):\n",
        "    print(\"{0} is a leap year\".format(year))\n",
        "\n",
        "# not divided by 100 means not a century year\n",
        "# year divided by 4 is a leap year\n",
        "elif (year % 4 ==0) and (year % 100 != 0):\n",
        "    print(\"{0} is a leap year\".format(year))\n",
        "\n",
        "# if not divided by both 400 (century year) and 4 (not century year)\n",
        "# year is not leap year\n",
        "else:\n",
        "    print(\"{0} is not a leap year\".format(year))"
      ],
      "metadata": {
        "colab": {
          "base_uri": "https://localhost:8080/"
        },
        "id": "-3_FXG3cv_A8",
        "outputId": "0e648341-da42-4c1c-ccf3-7e2b1c2e4308"
      },
      "execution_count": null,
      "outputs": [
        {
          "output_type": "stream",
          "name": "stdout",
          "text": [
            "2023 is not a leap year\n"
          ]
        }
      ]
    },
    {
      "cell_type": "code",
      "source": [
        "nm1=1\n",
        "nm2=2\n",
        "sum=(nm1+ nm2)\n",
        "print('sum of {0} and {1} is',sum)\n"
      ],
      "metadata": {
        "colab": {
          "base_uri": "https://localhost:8080/"
        },
        "id": "Fl23bNlIwv4V",
        "outputId": "ce3a4455-92a9-4cf5-cde8-076c9b7fd057"
      },
      "execution_count": null,
      "outputs": [
        {
          "output_type": "stream",
          "name": "stdout",
          "text": [
            "sum of {0} and {1} is 3\n"
          ]
        }
      ]
    },
    {
      "cell_type": "code",
      "source": [
        "numbers = [123, 234, 236, 694, 809, 15, 1025,507,20037,7]\n",
        "largest_odd = None\n",
        "\n",
        "for num in numbers:\n",
        "    if num % 2 != 0:  # Check if the number is odd\n",
        "        if largest_odd is None or num > largest_odd:  # Update if larger or if it's the first odd number\n",
        "            largest_odd = num\n",
        "\n",
        "print(\"The largest odd number is:\", largest_odd) # Output: 809\n"
      ],
      "metadata": {
        "colab": {
          "base_uri": "https://localhost:8080/"
        },
        "id": "E6f16cUX7WqP",
        "outputId": "74e6b093-cdcb-47cd-ba9c-7a2cea90258d"
      },
      "execution_count": null,
      "outputs": [
        {
          "output_type": "stream",
          "name": "stdout",
          "text": [
            "The largest odd number is: 20037\n"
          ]
        }
      ]
    },
    {
      "cell_type": "code",
      "source": [
        "# Python program to display all the prime numbers within an interval\n",
        "\n",
        "lower = 1\n",
        "upper = 100\n",
        "\n",
        "print(\"Prime numbers between\", lower, \"and\", upper, \"are:\")\n",
        "\n",
        "for num in range(lower, upper + 1):\n",
        "   # all prime numbers are greater than 1\n",
        "   if num > 1:\n",
        "       for i in range(2, num):\n",
        "           if (num % i) == 0:\n",
        "               break\n",
        "       else:\n",
        "           print(num)"
      ],
      "metadata": {
        "colab": {
          "base_uri": "https://localhost:8080/"
        },
        "id": "a5mffnsp2enb",
        "outputId": "96148b29-2723-404f-bff7-6bc10635fce0"
      },
      "execution_count": null,
      "outputs": [
        {
          "output_type": "stream",
          "name": "stdout",
          "text": [
            "Prime numbers between 1 and 100 are:\n",
            "2\n",
            "3\n",
            "5\n",
            "7\n",
            "11\n",
            "13\n",
            "17\n",
            "19\n",
            "23\n",
            "29\n",
            "31\n",
            "37\n",
            "41\n",
            "43\n",
            "47\n",
            "53\n",
            "59\n",
            "61\n",
            "67\n",
            "71\n",
            "73\n",
            "79\n",
            "83\n",
            "89\n",
            "97\n"
          ]
        }
      ]
    },
    {
      "cell_type": "code",
      "source": [
        "name = input(\"Enter student's name: \")\n",
        "roll_number = input(\"Enter student's roll number: \")\n",
        "\n",
        "# Get marks for three subjects\n",
        "subject1_name = input(\"Enter the name of the first subject: \")\n",
        "marks1 = int(input(f\"Enter marks for {subject1_name}: \"))\n",
        "\n",
        "subject2_name = input(\"Enter the name of the second subject: \")\n",
        "marks2 = int(input(f\"Enter marks for {subject2_name}: \"))\n",
        "\n",
        "subject3_name = input(\"Enter the name of the third subject: \")\n",
        "marks3 = int(input(f\"Enter marks for {subject3_name}: \"))\n",
        "\n",
        "# Calculate total marks and percentage\n",
        "total_marks = marks1 + marks2 + marks3\n",
        "percentage = (total_marks / 300) * 100  # Assuming each subject is out of 100\n",
        "\n",
        "# Display the details\n",
        "print(f\"\\nStudent Details:\")\n",
        "print(f\"Name: {name}\")\n",
        "print(f\"Roll Number: {roll_number}\")\n",
        "print(f\"{subject1_name} Marks: {marks1}\")\n",
        "print(f\"{subject2_name} Marks: {marks2}\")\n",
        "print(f\"{subject3_name} Marks: {marks3}\")\n",
        "print(f\"Total Marks: {total_marks}\")\n",
        "print(f\"Percentage: {percentage:.2f}%\")  # Format percentage to two decimal places\n"
      ],
      "metadata": {
        "colab": {
          "base_uri": "https://localhost:8080/"
        },
        "id": "ipvjALU_9q3n",
        "outputId": "e37fb5c5-bc01-4d9a-8f84-eeffd8aa0011"
      },
      "execution_count": null,
      "outputs": [
        {
          "output_type": "stream",
          "name": "stdout",
          "text": [
            "Enter student's name: savi\n",
            "Enter student's roll number: 12\n",
            "Enter the name of the first subject: math\n",
            "Enter marks for math: 25\n",
            "Enter the name of the second subject: english\n",
            "Enter marks for english: 20\n",
            "Enter the name of the third subject: hindi\n",
            "Enter marks for hindi: 26\n",
            "\n",
            "Student Details:\n",
            "Name: savi\n",
            "Roll Number: 12\n",
            "math Marks: 25\n",
            "english Marks: 20\n",
            "hindi Marks: 26\n",
            "Total Marks: 71\n",
            "Percentage: 23.67%\n"
          ]
        }
      ]
    },
    {
      "cell_type": "code",
      "source": [
        "from re import sub\n",
        "Student_name=input(\"Student Name: \")\n",
        "Student_Roll_no=input(\"Roll No: \")\n",
        "\n",
        "Sub_Name1=input(\"Subject Name: \")\n",
        "Sub_Mark1=int(input(f'Marks of {Sub_Name1}: '))\n",
        "\n",
        "Sub_Name2=input(\"Subject Name: \")\n",
        "Sub_Mark2=int(input(f'Marks of {Sub_Name2}: '))\n",
        "\n",
        "Sub_Name3=input(\"Subject Name: \")\n",
        "Sub_Mark3=int(input(f'Marks of {Sub_Name3}: '))\n",
        "\n",
        "sum_Sub=Sub_Mark1+Sub_Mark2+Sub_Mark3\n",
        "percent=(sum_Sub/300)*100\n",
        "\n",
        "print(f'Total Mark :  {sum_Sub}')\n",
        "print(f'Percentage : {percent}')"
      ],
      "metadata": {
        "colab": {
          "base_uri": "https://localhost:8080/"
        },
        "id": "WO4elRDL-qXh",
        "outputId": "8a7bfc57-3f05-45b0-9792-3d8976a34eaf"
      },
      "execution_count": null,
      "outputs": [
        {
          "output_type": "stream",
          "name": "stdout",
          "text": [
            "Student Name: sa\n",
            "Roll No: 5\n",
            "Subject Name: en\n",
            "Marks of en: 8\n",
            "Subject Name: ma\n",
            "Marks of ma: 9\n",
            "Subject Name: hi\n",
            "Marks of hi: 7\n",
            "Total Mark :  24\n",
            "Percentage : 8.0\n"
          ]
        }
      ]
    }
  ]
}